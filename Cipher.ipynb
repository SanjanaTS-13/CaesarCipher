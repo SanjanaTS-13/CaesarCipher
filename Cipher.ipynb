{
  "nbformat": 4,
  "nbformat_minor": 0,
  "metadata": {
    "colab": {
      "name": "Cipher.ipynb",
      "provenance": [],
      "authorship_tag": "ABX9TyOghD4jQJd2Y1wP1+iteVZ/"
    },
    "kernelspec": {
      "name": "python3",
      "display_name": "Python 3"
    },
    "language_info": {
      "name": "python"
    }
  },
  "cells": [
    {
      "cell_type": "code",
      "source": [
        "class Caesar():\n",
        "\n",
        "    def __init__(self):\n",
        "        self.LETTERS = 'ABCDEFGHIJKLMNOPQRSTUVWXYZ'\n",
        "        self.translated = ''\n",
        "\n",
        "    def __crypt(self, mode):\n",
        "        for symbol in self.message.upper():\n",
        "            if symbol in self.LETTERS:\n",
        "                num = self.LETTERS.find(symbol)\n",
        "                if mode == 'encrypt':\n",
        "                    num = num + self.key\n",
        "                elif mode == 'decrypt':\n",
        "                    num = num - self.key\n",
        "\n",
        "                if num >= len(self.LETTERS):\n",
        "                    num = num - len(self.LETTERS)\n",
        "                elif num < 0:\n",
        "                    num = num + len(self.LETTERS)\n",
        "\n",
        "                self.translated = self.translated + self.LETTERS[num]\n",
        "            else:\n",
        "                self.translated = self.translated + symbol\n",
        "\n",
        "        return self.translated\n",
        "\n",
        "    def encrypt(self, message, key=0):\n",
        "        self.translated = ''\n",
        "        self.key = key\n",
        "        self.message = message\n",
        "        return self.__crypt('encrypt')\n",
        "\n",
        "    def decrypt(self, message, key=0):\n",
        "        self.translated = ''\n",
        "        self.key = key\n",
        "        self.message = message\n",
        "        return self.__crypt('decrypt')\n",
        "\n",
        "if __name__ == '__main__':\n",
        "    cipher = Caesar()\n",
        "    print (cipher.encrypt(message='Secret message.', key=13))\n",
        "    print (cipher.decrypt(message='FRPERG ZRFFNTR.', key=13))"
      ],
      "metadata": {
        "id": "QEDAGT7O0OXG",
        "colab": {
          "base_uri": "https://localhost:8080/"
        },
        "outputId": "e466797a-4292-4ff8-f2cd-e4894d310492"
      },
      "execution_count": 4,
      "outputs": [
        {
          "output_type": "stream",
          "name": "stdout",
          "text": [
            "FRPERG ZRFFNTR.\n",
            "SECRET MESSAGE.\n"
          ]
        }
      ]
    },
    {
      "cell_type": "code",
      "source": [
        ""
      ],
      "metadata": {
        "id": "zMhr_6uJqaSY"
      },
      "execution_count": null,
      "outputs": []
    }
  ]
}